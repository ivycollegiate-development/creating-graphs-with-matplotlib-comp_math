{
 "cells": [
  {
   "cell_type": "code",
   "execution_count": null,
   "metadata": {
    "vscode": {
     "languageId": "plaintext"
    }
   },
   "outputs": [],
   "source": [
    "x_numbers = [1, 2, 3]\n",
    "y_numbers = [2, 4, 6]\n",
    "from pylab import plot, show\n",
    "plot (x_numbers, y_numbers)\n",
    "show ()"
   ]
  }
 ],
 "metadata": {
  "language_info": {
   "name": "python"
  }
 },
 "nbformat": 4,
 "nbformat_minor": 2
}
